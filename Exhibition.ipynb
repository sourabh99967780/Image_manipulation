{
 "cells": [
  {
   "cell_type": "code",
   "execution_count": 1,
   "metadata": {},
   "outputs": [],
   "source": [
    "import pandas as pd\n",
    "from PIL import Image,ImageDraw,ImageFont"
   ]
  },
  {
   "cell_type": "code",
   "execution_count": 2,
   "metadata": {},
   "outputs": [
    {
     "data": {
      "text/plain": [
       "array(['SHIVANI SHARMA', 'PRANEET KUMAR', 'ADITYA AGGARWAL',\n",
       "       'PRIYANKA SHARMA', 'NISHTHAA JAIN', 'SHUBHAM GARG',\n",
       "       'AAKASH AWASTI', 'SHUBHAM ', 'PALAK', 'PALAK', 'JASNEET SINGH',\n",
       "       'SM ZAIR', 'ZORAWAR', 'AMAN PURI', 'ANANT GOEL', 'MEGHA J PANIKAR',\n",
       "       'RICHA JAIN', 'SONAL PANDAY', 'KRISHNA NAND UPADHYAY',\n",
       "       'BHASKAR DUTT', 'MAZHA', 'SUMNEET KAUR', 'PRANAV GUPTA',\n",
       "       'MOHD. SHAYAN KHAN', 'ABHA RANI', 'ANSHUL SHRIVASTAVA',\n",
       "       'ABHISHEK OJHA', 'DEV JYOT SINGH', 'HARDIK ', 'GAURI GOENKA',\n",
       "       'SHANTNU ROY'], dtype=object)"
      ]
     },
     "execution_count": 2,
     "metadata": {},
     "output_type": "execute_result"
    }
   ],
   "source": [
    "dataset = pd.read_excel(\"exhibition_new.xlsx\")\n",
    "X = dataset.iloc[:,0].values\n",
    "X"
   ]
  },
  {
   "cell_type": "code",
   "execution_count": 3,
   "metadata": {},
   "outputs": [],
   "source": [
    "font = ImageFont.truetype(\"arial.ttf\",225)"
   ]
  },
  {
   "cell_type": "code",
   "execution_count": 18,
   "metadata": {},
   "outputs": [],
   "source": [
    "(x,y) = (3300,1900)"
   ]
  },
  {
   "cell_type": "code",
   "execution_count": 5,
   "metadata": {},
   "outputs": [],
   "source": [
    "color = \"rgb(0,0,0)\""
   ]
  },
  {
   "cell_type": "code",
   "execution_count": 21,
   "metadata": {},
   "outputs": [],
   "source": [
    "for i in range(len(X)):\n",
    "    image = Image.open(\"exhibition_updated-01.jpg\")\n",
    "    draw = ImageDraw.Draw(image)\n",
    "    name = X[i]\n",
    "    draw.text((x,y),name,fill = color,font = font)\n",
    "    image.save(X[i]+\".jpg\")"
   ]
  }
 ],
 "metadata": {
  "kernelspec": {
   "display_name": "Python 3",
   "language": "python",
   "name": "python3"
  },
  "language_info": {
   "codemirror_mode": {
    "name": "ipython",
    "version": 3
   },
   "file_extension": ".py",
   "mimetype": "text/x-python",
   "name": "python",
   "nbconvert_exporter": "python",
   "pygments_lexer": "ipython3",
   "version": "3.6.6"
  }
 },
 "nbformat": 4,
 "nbformat_minor": 2
}
